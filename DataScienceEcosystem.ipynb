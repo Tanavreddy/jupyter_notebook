{
 "cells": [
  {
   "cell_type": "markdown",
   "id": "e51e0045-1400-4bef-8091-4419edf9a73e",
   "metadata": {},
   "source": [
    "# Data Science Tools and Ecosystem"
   ]
  },
  {
   "cell_type": "markdown",
   "id": "878c5f1a-4691-4e16-9ef2-d97b9cfec562",
   "metadata": {},
   "source": [
    "In this notebook, Data Science Tools and Ecosystem are summarized."
   ]
  },
  {
   "cell_type": "markdown",
   "id": "db5f2f50-d9c8-4ac2-91f7-70d4b9130eb6",
   "metadata": {},
   "source": [
    "**Objectives** :\n",
    "- Popular languages for data science\n",
    "- popular libraries for data science\n",
    "- arithmetic expressions in python"
   ]
  },
  {
   "cell_type": "markdown",
   "id": "47e216ff-7382-4795-a707-4ff0b3992ccc",
   "metadata": {},
   "source": [
    "some of the popular languages that Data Scientists use are :\n",
    "1. Python\n",
    "2. SQL\n",
    "3. R"
   ]
  },
  {
   "cell_type": "markdown",
   "id": "48c80ba8-8512-4b2a-ae5c-2a9bdb9437f2",
   "metadata": {},
   "source": [
    "some of the commonly used libraries used by Data Scientists include :\n",
    "1. Panda.\n",
    "2. NumPy.\n",
    "3. PyTorch."
   ]
  },
  {
   "cell_type": "markdown",
   "id": "b3ef509d-0aa2-4600-ba4b-d65b7409c653",
   "metadata": {},
   "source": [
    "|Data Science Tools| Hadoop | Spark | Weka |\n",
    "|------------------|--------|-------|------|"
   ]
  },
  {
   "cell_type": "markdown",
   "id": "21619a92-f9d5-4f5c-b8d2-b036b1038ece",
   "metadata": {},
   "source": [
    "### Below are a few examples of evaluating arithmetic expressions in Python.\n"
   ]
  },
  {
   "cell_type": "code",
   "execution_count": 3,
   "id": "d17c7c87-fe3a-481a-8a89-1717010e544b",
   "metadata": {
    "tags": []
   },
   "outputs": [
    {
     "data": {
      "text/plain": [
       "17"
      ]
     },
     "execution_count": 3,
     "metadata": {},
     "output_type": "execute_result"
    }
   ],
   "source": [
    " # This is a simple arithmetic expression to multiply then add numbers\n",
    "(3*4)+5"
   ]
  },
  {
   "cell_type": "code",
   "execution_count": 9,
   "id": "9567c687-b892-483e-85bf-e14e55b69e2d",
   "metadata": {
    "tags": []
   },
   "outputs": [
    {
     "data": {
      "text/plain": [
       "3.3333333333333335"
      ]
     },
     "execution_count": 9,
     "metadata": {},
     "output_type": "execute_result"
    }
   ],
   "source": [
    "# This will convert 200 minutes to hours by dividing by 60\n",
    "200/60"
   ]
  },
  {
   "cell_type": "markdown",
   "id": "109087ec-210e-4446-b5a7-9152354e3865",
   "metadata": {},
   "source": [
    "## Author\n",
    "Tanav "
   ]
  },
  {
   "cell_type": "code",
   "execution_count": null,
   "id": "ff2bb2bd-22c1-4ebc-b571-2d5441716592",
   "metadata": {},
   "outputs": [],
   "source": []
  }
 ],
 "metadata": {
  "kernelspec": {
   "display_name": "Python",
   "language": "python",
   "name": "conda-env-python-py"
  },
  "language_info": {
   "codemirror_mode": {
    "name": "ipython",
    "version": 3
   },
   "file_extension": ".py",
   "mimetype": "text/x-python",
   "name": "python",
   "nbconvert_exporter": "python",
   "pygments_lexer": "ipython3",
   "version": "3.7.12"
  }
 },
 "nbformat": 4,
 "nbformat_minor": 5
}
